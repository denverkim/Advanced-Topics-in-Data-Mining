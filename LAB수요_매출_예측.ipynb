{
  "nbformat": 4,
  "nbformat_minor": 0,
  "metadata": {
    "colab": {
      "provenance": [],
      "authorship_tag": "ABX9TyMol1AIgDnOtfTmPEGO5rcy",
      "include_colab_link": true
    },
    "kernelspec": {
      "name": "python3",
      "display_name": "Python 3"
    },
    "language_info": {
      "name": "python"
    }
  },
  "cells": [
    {
      "cell_type": "markdown",
      "metadata": {
        "id": "view-in-github",
        "colab_type": "text"
      },
      "source": [
        "<a href=\"https://colab.research.google.com/github/denverkim/Advanced-Topics-in-Data-Mining/blob/main/LAB%EC%88%98%EC%9A%94_%EB%A7%A4%EC%B6%9C_%EC%98%88%EC%B8%A1.ipynb\" target=\"_parent\"><img src=\"https://colab.research.google.com/assets/colab-badge.svg\" alt=\"Open In Colab\"/></a>"
      ]
    },
    {
      "cell_type": "code",
      "source": [
        "import pandas as pd\n",
        "# 1. 데이터 불러오기\n",
        "df = pd.read_excel('/content/cravens.xlsx')\n",
        "# 2. 독립변수(X), 종속변수(y) 지정\n",
        "# 예: Sales를 종속변수로,나머지 변수들은 독립변수로 사용\n",
        "x= df.drop('Sales',axis=1)\n",
        "y = df['Sales']\n",
        "# tain and test split\n",
        "from sklearn.model_selection import train_test_split\n",
        "x_train,x_test,y_train,y_test = train_test_split(x,y,test_size=0.2,random_state=0)"
      ],
      "metadata": {
        "id": "-5OfSRHHcG5W"
      },
      "execution_count": 20,
      "outputs": []
    },
    {
      "cell_type": "code",
      "execution_count": 19,
      "metadata": {
        "colab": {
          "base_uri": "https://localhost:8080/"
        },
        "id": "Yjh9JCn2bCpb",
        "outputId": "9881f962-2fea-44d2-f3f2-eba7e283d86d"
      },
      "outputs": [
        {
          "output_type": "execute_result",
          "data": {
            "text/plain": [
              "-0.5419817076379339"
            ]
          },
          "metadata": {},
          "execution_count": 19
        }
      ],
      "source": [
        "# 회귀분석\n",
        "from sklearn.linear_model import LinearRegression\n",
        "lr = LinearRegression()\n",
        "lr.fit(x_train,y_train)\n",
        "\n",
        "# 평가\n",
        "lr.score(x_test,y_test)\n"
      ]
    },
    {
      "cell_type": "code",
      "source": [
        "# 교차검증\n",
        "from sklearn.model_selection import cross_val_score\n",
        "cross_val_score(lr,x,y,cv=5)"
      ],
      "metadata": {
        "colab": {
          "base_uri": "https://localhost:8080/"
        },
        "id": "xZLkTVSCdGSN",
        "outputId": "b25b90da-07b4-4535-fe65-a5b5411cdd4c"
      },
      "execution_count": 21,
      "outputs": [
        {
          "output_type": "execute_result",
          "data": {
            "text/plain": [
              "array([ 0.7790839 ,  0.80100274,  0.77795042, -3.30130631,  0.71888587])"
            ]
          },
          "metadata": {},
          "execution_count": 21
        }
      ]
    }
  ]
}